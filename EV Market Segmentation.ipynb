{
 "cells": [
  {
   "cell_type": "code",
   "execution_count": 2,
   "id": "e73861a8",
   "metadata": {},
   "outputs": [
    {
     "name": "stdout",
     "output_type": "stream",
     "text": [
      "Requirement already satisfied: Kaleido in c:\\users\\91782\\anaconda3\\lib\\site-packages (0.2.1)\n"
     ]
    }
   ],
   "source": [
    "!pip install -U Kaleido"
   ]
  },
  {
   "cell_type": "code",
   "execution_count": 3,
   "id": "ca73b4ef",
   "metadata": {},
   "outputs": [],
   "source": [
    "import numpy as np\n",
    "import pandas as pd\n",
    "import seaborn as sns"
   ]
  },
  {
   "cell_type": "code",
   "execution_count": 4,
   "id": "2ce2381a",
   "metadata": {},
   "outputs": [],
   "source": [
    "import matplotlib.pyplot as plt\n",
    "import plotly.express as px\n",
    "import kaleido"
   ]
  },
  {
   "cell_type": "code",
   "execution_count": 9,
   "id": "7184847b",
   "metadata": {},
   "outputs": [
    {
     "data": {
      "text/html": [
       "<div>\n",
       "<style scoped>\n",
       "    .dataframe tbody tr th:only-of-type {\n",
       "        vertical-align: middle;\n",
       "    }\n",
       "\n",
       "    .dataframe tbody tr th {\n",
       "        vertical-align: top;\n",
       "    }\n",
       "\n",
       "    .dataframe thead th {\n",
       "        text-align: right;\n",
       "    }\n",
       "</style>\n",
       "<table border=\"1\" class=\"dataframe\">\n",
       "  <thead>\n",
       "    <tr style=\"text-align: right;\">\n",
       "      <th></th>\n",
       "      <th>Age</th>\n",
       "      <th>Profession</th>\n",
       "      <th>Marrital Status</th>\n",
       "      <th>Education</th>\n",
       "      <th>No of Dependents</th>\n",
       "      <th>Personal loan</th>\n",
       "      <th>Total Salary</th>\n",
       "      <th>Price</th>\n",
       "    </tr>\n",
       "  </thead>\n",
       "  <tbody>\n",
       "    <tr>\n",
       "      <th>0</th>\n",
       "      <td>27</td>\n",
       "      <td>Salaried</td>\n",
       "      <td>Single</td>\n",
       "      <td>Post Graduate</td>\n",
       "      <td>0</td>\n",
       "      <td>Yes</td>\n",
       "      <td>800000</td>\n",
       "      <td>800000</td>\n",
       "    </tr>\n",
       "    <tr>\n",
       "      <th>1</th>\n",
       "      <td>35</td>\n",
       "      <td>Salaried</td>\n",
       "      <td>Married</td>\n",
       "      <td>Post Graduate</td>\n",
       "      <td>2</td>\n",
       "      <td>Yes</td>\n",
       "      <td>2000000</td>\n",
       "      <td>1000000</td>\n",
       "    </tr>\n",
       "    <tr>\n",
       "      <th>2</th>\n",
       "      <td>45</td>\n",
       "      <td>Business</td>\n",
       "      <td>Married</td>\n",
       "      <td>Graduate</td>\n",
       "      <td>4</td>\n",
       "      <td>Yes</td>\n",
       "      <td>1800000</td>\n",
       "      <td>1200000</td>\n",
       "    </tr>\n",
       "    <tr>\n",
       "      <th>3</th>\n",
       "      <td>41</td>\n",
       "      <td>Business</td>\n",
       "      <td>Married</td>\n",
       "      <td>Post Graduate</td>\n",
       "      <td>3</td>\n",
       "      <td>No</td>\n",
       "      <td>2200000</td>\n",
       "      <td>1200000</td>\n",
       "    </tr>\n",
       "    <tr>\n",
       "      <th>4</th>\n",
       "      <td>31</td>\n",
       "      <td>Salaried</td>\n",
       "      <td>Married</td>\n",
       "      <td>Post Graduate</td>\n",
       "      <td>2</td>\n",
       "      <td>Yes</td>\n",
       "      <td>2600000</td>\n",
       "      <td>1600000</td>\n",
       "    </tr>\n",
       "    <tr>\n",
       "      <th>...</th>\n",
       "      <td>...</td>\n",
       "      <td>...</td>\n",
       "      <td>...</td>\n",
       "      <td>...</td>\n",
       "      <td>...</td>\n",
       "      <td>...</td>\n",
       "      <td>...</td>\n",
       "      <td>...</td>\n",
       "    </tr>\n",
       "    <tr>\n",
       "      <th>94</th>\n",
       "      <td>27</td>\n",
       "      <td>Business</td>\n",
       "      <td>Single</td>\n",
       "      <td>Graduate</td>\n",
       "      <td>0</td>\n",
       "      <td>No</td>\n",
       "      <td>2400000</td>\n",
       "      <td>1600000</td>\n",
       "    </tr>\n",
       "    <tr>\n",
       "      <th>95</th>\n",
       "      <td>50</td>\n",
       "      <td>Salaried</td>\n",
       "      <td>Married</td>\n",
       "      <td>Post Graduate</td>\n",
       "      <td>3</td>\n",
       "      <td>No</td>\n",
       "      <td>5100000</td>\n",
       "      <td>1600000</td>\n",
       "    </tr>\n",
       "    <tr>\n",
       "      <th>96</th>\n",
       "      <td>51</td>\n",
       "      <td>Business</td>\n",
       "      <td>Married</td>\n",
       "      <td>Graduate</td>\n",
       "      <td>2</td>\n",
       "      <td>Yes</td>\n",
       "      <td>2200000</td>\n",
       "      <td>1100000</td>\n",
       "    </tr>\n",
       "    <tr>\n",
       "      <th>97</th>\n",
       "      <td>51</td>\n",
       "      <td>Salaried</td>\n",
       "      <td>Married</td>\n",
       "      <td>Post Graduate</td>\n",
       "      <td>2</td>\n",
       "      <td>No</td>\n",
       "      <td>4000000</td>\n",
       "      <td>1500000</td>\n",
       "    </tr>\n",
       "    <tr>\n",
       "      <th>98</th>\n",
       "      <td>51</td>\n",
       "      <td>Salaried</td>\n",
       "      <td>Married</td>\n",
       "      <td>Post Graduate</td>\n",
       "      <td>2</td>\n",
       "      <td>Yes</td>\n",
       "      <td>2200000</td>\n",
       "      <td>1100000</td>\n",
       "    </tr>\n",
       "  </tbody>\n",
       "</table>\n",
       "<p>99 rows × 8 columns</p>\n",
       "</div>"
      ],
      "text/plain": [
       "    Age Profession Marrital Status      Education  No of Dependents  \\\n",
       "0    27   Salaried          Single  Post Graduate                 0   \n",
       "1    35   Salaried         Married  Post Graduate                 2   \n",
       "2    45   Business         Married       Graduate                 4   \n",
       "3    41   Business         Married  Post Graduate                 3   \n",
       "4    31   Salaried         Married  Post Graduate                 2   \n",
       "..  ...        ...             ...            ...               ...   \n",
       "94   27   Business          Single       Graduate                 0   \n",
       "95   50   Salaried         Married  Post Graduate                 3   \n",
       "96   51   Business         Married       Graduate                 2   \n",
       "97   51   Salaried         Married  Post Graduate                 2   \n",
       "98   51   Salaried         Married  Post Graduate                 2   \n",
       "\n",
       "   Personal loan  Total Salary    Price  \n",
       "0            Yes        800000   800000  \n",
       "1            Yes       2000000  1000000  \n",
       "2            Yes       1800000  1200000  \n",
       "3             No       2200000  1200000  \n",
       "4            Yes       2600000  1600000  \n",
       "..           ...           ...      ...  \n",
       "94            No       2400000  1600000  \n",
       "95            No       5100000  1600000  \n",
       "96           Yes       2200000  1100000  \n",
       "97            No       4000000  1500000  \n",
       "98           Yes       2200000  1100000  \n",
       "\n",
       "[99 rows x 8 columns]"
      ]
     },
     "execution_count": 9,
     "metadata": {},
     "output_type": "execute_result"
    }
   ],
   "source": [
    "df = pd.read_csv(\"customer_dataset.csv\")\n",
    "df"
   ]
  },
  {
   "cell_type": "code",
   "execution_count": 10,
   "id": "d377ebea",
   "metadata": {},
   "outputs": [
    {
     "data": {
      "text/plain": [
       "<bound method NDFrame.describe of     Age Profession Marrital Status      Education  No of Dependents  \\\n",
       "0    27   Salaried          Single  Post Graduate                 0   \n",
       "1    35   Salaried         Married  Post Graduate                 2   \n",
       "2    45   Business         Married       Graduate                 4   \n",
       "3    41   Business         Married  Post Graduate                 3   \n",
       "4    31   Salaried         Married  Post Graduate                 2   \n",
       "..  ...        ...             ...            ...               ...   \n",
       "94   27   Business          Single       Graduate                 0   \n",
       "95   50   Salaried         Married  Post Graduate                 3   \n",
       "96   51   Business         Married       Graduate                 2   \n",
       "97   51   Salaried         Married  Post Graduate                 2   \n",
       "98   51   Salaried         Married  Post Graduate                 2   \n",
       "\n",
       "   Personal loan  Total Salary    Price  \n",
       "0            Yes        800000   800000  \n",
       "1            Yes       2000000  1000000  \n",
       "2            Yes       1800000  1200000  \n",
       "3             No       2200000  1200000  \n",
       "4            Yes       2600000  1600000  \n",
       "..           ...           ...      ...  \n",
       "94            No       2400000  1600000  \n",
       "95            No       5100000  1600000  \n",
       "96           Yes       2200000  1100000  \n",
       "97            No       4000000  1500000  \n",
       "98           Yes       2200000  1100000  \n",
       "\n",
       "[99 rows x 8 columns]>"
      ]
     },
     "execution_count": 10,
     "metadata": {},
     "output_type": "execute_result"
    }
   ],
   "source": [
    "df.describe"
   ]
  },
  {
   "cell_type": "code",
   "execution_count": 8,
   "id": "b070126a",
   "metadata": {},
   "outputs": [
    {
     "name": "stdout",
     "output_type": "stream",
     "text": [
      "Age                 0\n",
      "Profession          0\n",
      "Marrital Status     0\n",
      "Education           0\n",
      "No of Dependents    0\n",
      "Personal loan       0\n",
      "Total Salary        0\n",
      "Price               0\n",
      "dtype: int64\n"
     ]
    }
   ],
   "source": [
    "print(pd.isnull(data).sum())"
   ]
  },
  {
   "cell_type": "code",
   "execution_count": 9,
   "id": "0fe89e32",
   "metadata": {},
   "outputs": [
    {
     "data": {
      "text/html": [
       "<div>\n",
       "<style scoped>\n",
       "    .dataframe tbody tr th:only-of-type {\n",
       "        vertical-align: middle;\n",
       "    }\n",
       "\n",
       "    .dataframe tbody tr th {\n",
       "        vertical-align: top;\n",
       "    }\n",
       "\n",
       "    .dataframe thead th {\n",
       "        text-align: right;\n",
       "    }\n",
       "</style>\n",
       "<table border=\"1\" class=\"dataframe\">\n",
       "  <thead>\n",
       "    <tr style=\"text-align: right;\">\n",
       "      <th></th>\n",
       "      <th>Age</th>\n",
       "      <th>Profession</th>\n",
       "      <th>Marrital Status</th>\n",
       "      <th>Education</th>\n",
       "      <th>No of Dependents</th>\n",
       "      <th>Car_Loan</th>\n",
       "      <th>Total Salary</th>\n",
       "      <th>EV_Price</th>\n",
       "    </tr>\n",
       "  </thead>\n",
       "  <tbody>\n",
       "    <tr>\n",
       "      <th>0</th>\n",
       "      <td>27</td>\n",
       "      <td>Salaried</td>\n",
       "      <td>Single</td>\n",
       "      <td>Post Graduate</td>\n",
       "      <td>0</td>\n",
       "      <td>Yes</td>\n",
       "      <td>800000</td>\n",
       "      <td>800000</td>\n",
       "    </tr>\n",
       "    <tr>\n",
       "      <th>1</th>\n",
       "      <td>35</td>\n",
       "      <td>Salaried</td>\n",
       "      <td>Married</td>\n",
       "      <td>Post Graduate</td>\n",
       "      <td>2</td>\n",
       "      <td>Yes</td>\n",
       "      <td>2000000</td>\n",
       "      <td>1000000</td>\n",
       "    </tr>\n",
       "    <tr>\n",
       "      <th>2</th>\n",
       "      <td>45</td>\n",
       "      <td>Business</td>\n",
       "      <td>Married</td>\n",
       "      <td>Graduate</td>\n",
       "      <td>4</td>\n",
       "      <td>Yes</td>\n",
       "      <td>1800000</td>\n",
       "      <td>1200000</td>\n",
       "    </tr>\n",
       "    <tr>\n",
       "      <th>3</th>\n",
       "      <td>41</td>\n",
       "      <td>Business</td>\n",
       "      <td>Married</td>\n",
       "      <td>Post Graduate</td>\n",
       "      <td>3</td>\n",
       "      <td>No</td>\n",
       "      <td>2200000</td>\n",
       "      <td>1200000</td>\n",
       "    </tr>\n",
       "    <tr>\n",
       "      <th>4</th>\n",
       "      <td>31</td>\n",
       "      <td>Salaried</td>\n",
       "      <td>Married</td>\n",
       "      <td>Post Graduate</td>\n",
       "      <td>2</td>\n",
       "      <td>Yes</td>\n",
       "      <td>2600000</td>\n",
       "      <td>1600000</td>\n",
       "    </tr>\n",
       "  </tbody>\n",
       "</table>\n",
       "</div>"
      ],
      "text/plain": [
       "   Age Profession Marrital Status      Education  No of Dependents Car_Loan  \\\n",
       "0   27   Salaried          Single  Post Graduate                 0      Yes   \n",
       "1   35   Salaried         Married  Post Graduate                 2      Yes   \n",
       "2   45   Business         Married       Graduate                 4      Yes   \n",
       "3   41   Business         Married  Post Graduate                 3       No   \n",
       "4   31   Salaried         Married  Post Graduate                 2      Yes   \n",
       "\n",
       "   Total Salary  EV_Price  \n",
       "0        800000    800000  \n",
       "1       2000000   1000000  \n",
       "2       1800000   1200000  \n",
       "3       2200000   1200000  \n",
       "4       2600000   1600000  "
      ]
     },
     "execution_count": 9,
     "metadata": {},
     "output_type": "execute_result"
    }
   ],
   "source": [
    "data.rename(columns={'Personal loan':'Car_Loan'},inplace=True)\n",
    "data.rename(columns={'Price':'EV_Price'},inplace=True)\n",
    "data.head()"
   ]
  },
  {
   "cell_type": "code",
   "execution_count": 10,
   "id": "a74cc4f2",
   "metadata": {},
   "outputs": [
    {
     "data": {
      "image/png": "[encoded data removed]",
      "text/plain": [
       "<Figure size 640x480 with 1 Axes>"
      ]
     },
     "metadata": {},
     "output_type": "display_data"
    }
   ],
   "source": [
    "#car status wrt Marrital Status\n",
    "sns.countplot(x='Marrital Status', hue='Car_Loan', data=data, palette = 'Set2')\n",
    "plt.show()"
   ]
  },
  {
   "cell_type": "code",
   "execution_count": 13,
   "id": "622377a9",
   "metadata": {},
   "outputs": [
    {
     "data": {
      "text/plain": [
       "84.84848484848484"
      ]
     },
     "execution_count": 13,
     "metadata": {},
     "output_type": "execute_result"
    }
   ],
   "source": [
    "(data['Marrital Status'].value_counts()['Married'])/((data['Marrital Status'].value_counts()['Married'])+(data['Marrital Status'].value_counts()['Single']))*100"
   ]
  },
  {
   "cell_type": "code",
   "execution_count": 16,
   "id": "70195ee8",
   "metadata": {},
   "outputs": [
    {
     "data": {
      "image/png": "[encoded data removed]",
      "text/plain": [
       "<Figure size 640x480 with 1 Axes>"
      ]
     },
     "metadata": {},
     "output_type": "display_data"
    }
   ],
   "source": [
    "#labesl and data\n",
    "labels = ['Car Loan Required','Car Loan not required']\n",
    "Loan_status = [data.query('Car_Loan == \"Yes\"').Car_Loan.count(),data.query('Car_Loan == \"No\"').Car_Loan.count()]\n",
    "\n",
    "#declaring exploding pie\n",
    "explode = [0.1, 0]\n",
    "palette_color = sns.color_palette('pastel')\n",
    "plt.pie(Loan_status, labels=labels, colors=palette_color, shadow = \"True\",\n",
    "       explode=explode, autopct='%1.1f%%')\n",
    "plt.show()"
   ]
  },
  {
   "cell_type": "code",
   "execution_count": 17,
   "id": "bb938308",
   "metadata": {},
   "outputs": [
    {
     "data": {
      "image/png": "[encoded data removed]",
      "text/plain": [
       "<Figure size 1500x500 with 4 Axes>"
      ]
     },
     "metadata": {},
     "output_type": "display_data"
    }
   ],
   "source": [
    "plt.figure(1, figsize=(15,5))\n",
    "n=0\n",
    "\n",
    "for x in ['Age', 'No of Dependents' ,'Total Salary'  ,'EV_Price']:\n",
    "  n += 1\n",
    "  plt.subplot(1,4,n)\n",
    "  plt.subplots_adjust(hspace=0.5, wspace=0.5)\n",
    "  sns.histplot(data[x], bins= 25)\n",
    "  plt.title(f'{x}')\n",
    "plt.show()"
   ]
  },
  {
   "cell_type": "code",
   "execution_count": 18,
   "id": "dc0181d7",
   "metadata": {},
   "outputs": [
    {
     "name": "stdout",
     "output_type": "stream",
     "text": [
      "Collecting kmodes\n",
      "  Downloading kmodes-0.12.2-py2.py3-none-any.whl (20 kB)\n",
      "Requirement already satisfied: numpy>=1.10.4 in c:\\users\\91782\\anaconda3\\lib\\site-packages (from kmodes) (1.21.5)\n",
      "Requirement already satisfied: scikit-learn>=0.22.0 in c:\\users\\91782\\anaconda3\\lib\\site-packages (from kmodes) (1.0.2)\n",
      "Requirement already satisfied: joblib>=0.11 in c:\\users\\91782\\anaconda3\\lib\\site-packages (from kmodes) (1.1.0)\n",
      "Requirement already satisfied: scipy>=0.13.3 in c:\\users\\91782\\anaconda3\\lib\\site-packages (from kmodes) (1.9.1)\n",
      "Requirement already satisfied: threadpoolctl>=2.0.0 in c:\\users\\91782\\anaconda3\\lib\\site-packages (from scikit-learn>=0.22.0->kmodes) (2.2.0)\n",
      "Installing collected packages: kmodes\n",
      "Successfully installed kmodes-0.12.2\n"
     ]
    }
   ],
   "source": [
    "!pip install kmodes\n",
    "from kmodes.kprototypes import KPrototypes"
   ]
  },
  {
   "cell_type": "code",
   "execution_count": 19,
   "id": "37c35495",
   "metadata": {},
   "outputs": [
    {
     "data": {
      "text/html": [
       "<div>\n",
       "<style scoped>\n",
       "    .dataframe tbody tr th:only-of-type {\n",
       "        vertical-align: middle;\n",
       "    }\n",
       "\n",
       "    .dataframe tbody tr th {\n",
       "        vertical-align: top;\n",
       "    }\n",
       "\n",
       "    .dataframe thead th {\n",
       "        text-align: right;\n",
       "    }\n",
       "</style>\n",
       "<table border=\"1\" class=\"dataframe\">\n",
       "  <thead>\n",
       "    <tr style=\"text-align: right;\">\n",
       "      <th></th>\n",
       "      <th>Age</th>\n",
       "      <th>Profession</th>\n",
       "      <th>Marrital Status</th>\n",
       "      <th>Education</th>\n",
       "      <th>No of Dependents</th>\n",
       "      <th>Car_Loan</th>\n",
       "      <th>Total Salary</th>\n",
       "      <th>EV_Price</th>\n",
       "    </tr>\n",
       "  </thead>\n",
       "  <tbody>\n",
       "    <tr>\n",
       "      <th>0</th>\n",
       "      <td>27</td>\n",
       "      <td>Salaried</td>\n",
       "      <td>Single</td>\n",
       "      <td>Post Graduate</td>\n",
       "      <td>0</td>\n",
       "      <td>Yes</td>\n",
       "      <td>800000</td>\n",
       "      <td>800000</td>\n",
       "    </tr>\n",
       "    <tr>\n",
       "      <th>1</th>\n",
       "      <td>35</td>\n",
       "      <td>Salaried</td>\n",
       "      <td>Married</td>\n",
       "      <td>Post Graduate</td>\n",
       "      <td>2</td>\n",
       "      <td>Yes</td>\n",
       "      <td>2000000</td>\n",
       "      <td>1000000</td>\n",
       "    </tr>\n",
       "    <tr>\n",
       "      <th>2</th>\n",
       "      <td>45</td>\n",
       "      <td>Business</td>\n",
       "      <td>Married</td>\n",
       "      <td>Graduate</td>\n",
       "      <td>4</td>\n",
       "      <td>Yes</td>\n",
       "      <td>1800000</td>\n",
       "      <td>1200000</td>\n",
       "    </tr>\n",
       "    <tr>\n",
       "      <th>3</th>\n",
       "      <td>41</td>\n",
       "      <td>Business</td>\n",
       "      <td>Married</td>\n",
       "      <td>Post Graduate</td>\n",
       "      <td>3</td>\n",
       "      <td>No</td>\n",
       "      <td>2200000</td>\n",
       "      <td>1200000</td>\n",
       "    </tr>\n",
       "    <tr>\n",
       "      <th>4</th>\n",
       "      <td>31</td>\n",
       "      <td>Salaried</td>\n",
       "      <td>Married</td>\n",
       "      <td>Post Graduate</td>\n",
       "      <td>2</td>\n",
       "      <td>Yes</td>\n",
       "      <td>2600000</td>\n",
       "      <td>1600000</td>\n",
       "    </tr>\n",
       "  </tbody>\n",
       "</table>\n",
       "</div>"
      ],
      "text/plain": [
       "   Age Profession Marrital Status      Education  No of Dependents Car_Loan  \\\n",
       "0   27   Salaried          Single  Post Graduate                 0      Yes   \n",
       "1   35   Salaried         Married  Post Graduate                 2      Yes   \n",
       "2   45   Business         Married       Graduate                 4      Yes   \n",
       "3   41   Business         Married  Post Graduate                 3       No   \n",
       "4   31   Salaried         Married  Post Graduate                 2      Yes   \n",
       "\n",
       "   Total Salary  EV_Price  \n",
       "0        800000    800000  \n",
       "1       2000000   1000000  \n",
       "2       1800000   1200000  \n",
       "3       2200000   1200000  \n",
       "4       2600000   1600000  "
      ]
     },
     "execution_count": 19,
     "metadata": {},
     "output_type": "execute_result"
    }
   ],
   "source": [
    "data.head()"
   ]
  },
  {
   "cell_type": "code",
   "execution_count": 21,
   "id": "b6d9a817",
   "metadata": {},
   "outputs": [],
   "source": [
    "cluster_features = list(data.columns)\n",
    "cluster_data = data[cluster_features].values"
   ]
  },
  {
   "cell_type": "code",
   "execution_count": 22,
   "id": "c1313dc4",
   "metadata": {},
   "outputs": [
    {
     "data": {
      "text/plain": [
       "array([27, 35, 45, 41, 31, 28, 31, 33, 34, 34, 35, 35, 29, 30, 31, 49, 26,\n",
       "       27, 29, 30, 37, 35, 36, 35, 35, 35, 35, 36, 36, 36, 41, 41, 41, 43,\n",
       "       42, 42, 29, 30, 30, 31, 31, 32, 32, 34, 34, 34, 36, 36, 36, 36, 49,\n",
       "       49, 44, 44, 41, 41, 41, 27, 27, 28, 28, 30, 31, 31, 31, 39, 39, 39,\n",
       "       39, 37, 37, 37, 37, 35, 36, 36, 36, 36, 44, 45, 46, 44, 43, 42, 42,\n",
       "       42, 29, 33, 34, 34, 35, 36, 37, 27, 27, 50, 51, 51, 51],\n",
       "      dtype=object)"
      ]
     },
     "execution_count": 22,
     "metadata": {},
     "output_type": "execute_result"
    }
   ],
   "source": [
    "cluster_data[:, 0]"
   ]
  },
  {
   "cell_type": "code",
   "execution_count": 23,
   "id": "0598333f",
   "metadata": {},
   "outputs": [],
   "source": [
    "cluster_data[:, 0] = cluster_data[:, 0].astype(float)\n",
    "cluster_data[:, 4] = cluster_data[:, 4].astype(float)\n",
    "cluster_data[:, 6] = cluster_data[:, 6].astype(float)\n",
    "cluster_data[:, 7] = cluster_data[:, 7].astype(float)"
   ]
  },
  {
   "cell_type": "code",
   "execution_count": 24,
   "id": "16b99dd0",
   "metadata": {},
   "outputs": [
    {
     "data": {
      "text/plain": [
       "[<matplotlib.lines.Line2D at 0x1c129bab6a0>]"
      ]
     },
     "execution_count": 24,
     "metadata": {},
     "output_type": "execute_result"
    },
    {
     "data": {
      "image/png": "[encoded data removed]",
      "text/plain": [
       "<Figure size 640x480 with 1 Axes>"
      ]
     },
     "metadata": {},
     "output_type": "display_data"
    }
   ],
   "source": [
    "#Finding optimal number of clusters for KPrototypes\n",
    "cost = []\n",
    "for num_clusters in list(range(1,8)):\n",
    "    kproto = KPrototypes(n_clusters=num_clusters, init='Cao')\n",
    "    kproto.fit_predict(cluster_data, categorical=[1,2,3,5])\n",
    "    cost.append(kproto.cost_)\n",
    "\n",
    "plt.plot(cost)"
   ]
  },
  {
   "cell_type": "code",
   "execution_count": 25,
   "id": "a9c5fa96",
   "metadata": {},
   "outputs": [
    {
     "data": {
      "text/plain": [
       "[126979657487180.34,\n",
       " 48631729380526.18,\n",
       " 25087753148183.234,\n",
       " 18491809410726.285,\n",
       " 14099253855131.873,\n",
       " 11636836256958.104,\n",
       " 10083268063418.936]"
      ]
     },
     "execution_count": 25,
     "metadata": {},
     "output_type": "execute_result"
    }
   ],
   "source": [
    "cost"
   ]
  },
  {
   "cell_type": "code",
   "execution_count": 26,
   "id": "08270af4",
   "metadata": {},
   "outputs": [
    {
     "name": "stdout",
     "output_type": "stream",
     "text": [
      "Initialization method and algorithm are deterministic. Setting n_init to 1.\n",
      "Init: initializing centroids\n",
      "Init: initializing clusters\n",
      "Starting iterations...\n",
      "Run: 1, iteration: 1/20, moves: 3, ncost: 48777842651066.98\n",
      "Run: 1, iteration: 2/20, moves: 0, ncost: 48777842651066.98\n",
      "Init: initializing centroids\n",
      "Init: initializing clusters\n",
      "Starting iterations...\n",
      "Run: 2, iteration: 1/20, moves: 19, ncost: 50683794617780.36\n",
      "Run: 2, iteration: 2/20, moves: 4, ncost: 50057040964014.66\n",
      "Run: 2, iteration: 3/20, moves: 1, ncost: 50020391397205.32\n",
      "Run: 2, iteration: 4/20, moves: 0, ncost: 50020391397205.32\n",
      "Init: initializing centroids\n",
      "Init: initializing clusters\n",
      "Starting iterations...\n",
      "Run: 3, iteration: 1/20, moves: 28, ncost: 60593966305440.77\n",
      "Run: 3, iteration: 2/20, moves: 20, ncost: 50447073534650.24\n",
      "Run: 3, iteration: 3/20, moves: 3, ncost: 50057040964014.66\n",
      "Run: 3, iteration: 4/20, moves: 1, ncost: 50020391397205.32\n",
      "Run: 3, iteration: 5/20, moves: 0, ncost: 50020391397205.32\n",
      "Init: initializing centroids\n",
      "Init: initializing clusters\n",
      "Starting iterations...\n",
      "Run: 4, iteration: 1/20, moves: 3, ncost: 49650723166357.79\n",
      "Run: 4, iteration: 2/20, moves: 4, ncost: 48777842651066.98\n",
      "Run: 4, iteration: 3/20, moves: 0, ncost: 48777842651066.98\n",
      "Init: initializing centroids\n",
      "Init: initializing clusters\n",
      "Starting iterations...\n",
      "Run: 5, iteration: 1/20, moves: 13, ncost: 50140772520396.805\n",
      "Run: 5, iteration: 2/20, moves: 1, ncost: 50057040964014.66\n",
      "Run: 5, iteration: 3/20, moves: 1, ncost: 50020391397205.32\n",
      "Run: 5, iteration: 4/20, moves: 0, ncost: 50020391397205.32\n",
      "Init: initializing centroids\n",
      "Init: initializing clusters\n",
      "Starting iterations...\n",
      "Run: 6, iteration: 1/20, moves: 43, ncost: 50999854817039.336\n",
      "Run: 6, iteration: 2/20, moves: 5, ncost: 50057040964014.66\n",
      "Run: 6, iteration: 3/20, moves: 1, ncost: 50020391397205.32\n",
      "Run: 6, iteration: 4/20, moves: 0, ncost: 50020391397205.32\n",
      "Init: initializing centroids\n",
      "Init: initializing clusters\n",
      "Starting iterations...\n",
      "Run: 7, iteration: 1/20, moves: 19, ncost: 51081301133329.695\n",
      "Run: 7, iteration: 2/20, moves: 5, ncost: 50057040964014.66\n",
      "Run: 7, iteration: 3/20, moves: 1, ncost: 50020391397205.32\n",
      "Run: 7, iteration: 4/20, moves: 0, ncost: 50020391397205.32\n",
      "Init: initializing centroids\n",
      "Init: initializing clusters\n",
      "Starting iterations...\n",
      "Run: 8, iteration: 1/20, moves: 3, ncost: 48631729380526.18\n",
      "Run: 8, iteration: 2/20, moves: 0, ncost: 48631729380526.18\n",
      "Init: initializing centroids\n",
      "Init: initializing clusters\n",
      "Starting iterations...\n",
      "Run: 9, iteration: 1/20, moves: 17, ncost: 50447073534650.24\n",
      "Run: 9, iteration: 2/20, moves: 3, ncost: 50057040964014.66\n",
      "Run: 9, iteration: 3/20, moves: 1, ncost: 50020391397205.32\n",
      "Run: 9, iteration: 4/20, moves: 0, ncost: 50020391397205.32\n",
      "Init: initializing centroids\n",
      "Init: initializing clusters\n",
      "Starting iterations...\n",
      "Run: 10, iteration: 1/20, moves: 2, ncost: 48616816198579.65\n",
      "Run: 10, iteration: 2/20, moves: 0, ncost: 48616816198579.65\n",
      "Best run was number 10\n"
     ]
    }
   ],
   "source": [
    "kproto = KPrototypes(n_clusters=2, verbose=2,max_iter=20)\n",
    "clusters = kproto.fit_predict(cluster_data, categorical=[1,2,3,5])"
   ]
  },
  {
   "cell_type": "code",
   "execution_count": 27,
   "id": "853f92a6",
   "metadata": {},
   "outputs": [],
   "source": [
    "data['Cluster'] = clusters"
   ]
  },
  {
   "cell_type": "code",
   "execution_count": 28,
   "id": "3627daaa",
   "metadata": {},
   "outputs": [
    {
     "data": {
      "text/plain": [
       "1194040.4040404041"
      ]
     },
     "execution_count": 28,
     "metadata": {},
     "output_type": "execute_result"
    }
   ],
   "source": [
    "data.EV_Price.mean()"
   ]
  },
  {
   "cell_type": "code",
   "execution_count": 29,
   "id": "b4968f21",
   "metadata": {},
   "outputs": [
    {
     "data": {
      "text/plain": [
       "3000000"
      ]
     },
     "execution_count": 29,
     "metadata": {},
     "output_type": "execute_result"
    }
   ],
   "source": [
    "data['EV_Price'][data.Cluster==1].max()"
   ]
  },
  {
   "cell_type": "code",
   "execution_count": 30,
   "id": "cee1b548",
   "metadata": {},
   "outputs": [
    {
     "data": {
      "text/plain": [
       "1633333.3333333333"
      ]
     },
     "execution_count": 30,
     "metadata": {},
     "output_type": "execute_result"
    }
   ],
   "source": [
    "data.EV_Price[data.Cluster==1].mean()"
   ]
  },
  {
   "cell_type": "code",
   "execution_count": 31,
   "id": "001602ac",
   "metadata": {},
   "outputs": [
    {
     "data": {
      "text/plain": [
       "0    72.727273\n",
       "1    27.272727\n",
       "Name: Cluster, dtype: float64"
      ]
     },
     "execution_count": 31,
     "metadata": {},
     "output_type": "execute_result"
    }
   ],
   "source": [
    "data['Cluster'].value_counts(normalize=True) * 100"
   ]
  },
  {
   "cell_type": "code",
   "execution_count": 32,
   "id": "c45536e6",
   "metadata": {},
   "outputs": [],
   "source": [
    "Cluster_0 = data[data.Cluster==0]\n",
    "Cluster_1 = data[data.Cluster==1]"
   ]
  },
  {
   "cell_type": "code",
   "execution_count": 33,
   "id": "89ff4e53",
   "metadata": {},
   "outputs": [
    {
     "data": {
      "text/plain": [
       "0    72\n",
       "1    27\n",
       "Name: Cluster, dtype: int64"
      ]
     },
     "execution_count": 33,
     "metadata": {},
     "output_type": "execute_result"
    }
   ],
   "source": [
    "data['Cluster'].value_counts()"
   ]
  },
  {
   "cell_type": "code",
   "execution_count": 34,
   "id": "26ff6b0e",
   "metadata": {},
   "outputs": [
    {
     "data": {
      "image/png": "[encoded data removed]",
      "text/plain": [
       "<Figure size 640x480 with 1 Axes>"
      ]
     },
     "metadata": {},
     "output_type": "display_data"
    }
   ],
   "source": [
    "plt.scatter(Cluster_0.EV_Price, Cluster_0['Total Salary'],color='red', marker = 'x', label = 'Cluster 1')\n",
    "plt.scatter(Cluster_1.EV_Price, Cluster_1['Total Salary'],color='green', label = 'Cluster 2')\n",
    "plt.legend(loc=\"upper left\")\n",
    "\n",
    "plt.xlabel('EV Price')\n",
    "plt.ylabel('Total salary')\n",
    "plt.show()\n"
   ]
  },
  {
   "cell_type": "code",
   "execution_count": 35,
   "id": "8c13bb7c",
   "metadata": {},
   "outputs": [
    {
     "data": {
      "image/png": "[encoded data removed]",
      "text/plain": [
       "<Figure size 640x480 with 1 Axes>"
      ]
     },
     "metadata": {},
     "output_type": "display_data"
    }
   ],
   "source": [
    "plt.scatter(Cluster_0.EV_Price, Cluster_0['Age'],color='red', marker = 'x', label = 'Cluster 1')\n",
    "plt.scatter(Cluster_1.EV_Price, Cluster_1['Age'],color='green', label = 'Cluster 2')\n",
    "plt.legend(loc = \"upper left\")\n",
    "\n",
    "plt.xlabel('EV Price')\n",
    "plt.ylabel('Age')\n",
    "plt.show()"
   ]
  },
  {
   "cell_type": "code",
   "execution_count": null,
   "id": "51e0916f",
   "metadata": {},
   "outputs": [],
   "source": []
  }
 ],
 "metadata": {
  "kernelspec": {
   "display_name": "Python 3 (ipykernel)",
   "language": "python",
   "name": "python3"
  },
  "language_info": {
   "codemirror_mode": {
    "name": "ipython",
    "version": 3
   },
   "file_extension": ".py",
   "mimetype": "text/x-python",
   "name": "python",
   "nbconvert_exporter": "python",
   "pygments_lexer": "ipython3",
   "version": "3.9.13"
  }
 },
 "nbformat": 4,
 "nbformat_minor": 5
}
